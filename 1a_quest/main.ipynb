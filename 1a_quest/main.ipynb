{
 "cells": [
  {
   "cell_type": "markdown",
   "id": "baed8e5e",
   "metadata": {},
   "source": [
    "# Instalando Bibliotecas"
   ]
  },
  {
   "cell_type": "code",
   "execution_count": null,
   "id": "2077ee09",
   "metadata": {},
   "outputs": [],
   "source": [
    "%pip install torch matplotlib"
   ]
  },
  {
   "cell_type": "markdown",
   "id": "18feed9d",
   "metadata": {},
   "source": [
    "# Importando bibliotecas"
   ]
  },
  {
   "cell_type": "code",
   "execution_count": null,
   "id": "3cbeb6ad",
   "metadata": {},
   "outputs": [],
   "source": [
    "import torch\n",
    "import torch.nn as nn\n",
    "import torch.optim as optim\n",
    "from torch.utils.data import TensorDataset, DataLoader, random_split\n",
    "import matplotlib.pyplot as plt\n",
    "import numpy as np"
   ]
  },
  {
   "cell_type": "markdown",
   "id": "29015258",
   "metadata": {},
   "source": [
    "# --- 1. Definição do Modelo Perceptron ---"
   ]
  },
  {
   "cell_type": "code",
   "execution_count": null,
   "id": "9849f0fd",
   "metadata": {},
   "outputs": [],
   "source": [
    "\n",
    "class MLP(nn.Module):\n",
    "    def __init__(self, hidden_layers=[50, 50]):\n",
    "        super().__init__()\n",
    "        # Cria as camadas com base na lista de hidden_layers\n",
    "        layers = []\n",
    "        input_size = 1\n",
    "        for hidden_size in hidden_layers:\n",
    "            layers.append(nn.Linear(input_size, hidden_size))\n",
    "            layers.append(nn.ReLU())\n",
    "            input_size = hidden_size\n",
    "        layers.append(nn.Linear(input_size, 1))\n",
    "        \n",
    "        self.network = nn.Sequential(*layers)\n",
    "\n",
    "    def forward(self, x):\n",
    "        return self.network(x)"
   ]
  },
  {
   "cell_type": "markdown",
   "id": "b4155d18",
   "metadata": {},
   "source": [
    "# --- 2. Geração de Dados ---"
   ]
  },
  {
   "cell_type": "code",
   "execution_count": null,
   "id": "e65c3626",
   "metadata": {},
   "outputs": [],
   "source": [
    "\n",
    "def generate_data(func, start, end, num_points=1000):\n",
    "    # Gera tensores de entrada (x) e saída (y) para uma dada função.\n",
    "    X = torch.linspace(start, end, num_points).unsqueeze(1)\n",
    "    y = func(X)\n",
    "    return X, y"
   ]
  },
  {
   "cell_type": "markdown",
   "id": "f0698992",
   "metadata": {},
   "source": [
    "# --- 3. Função de Treinamento e Validação ---"
   ]
  },
  {
   "cell_type": "code",
   "execution_count": null,
   "id": "152a4f6b",
   "metadata": {},
   "outputs": [],
   "source": [
    "\n",
    "def train_and_evaluate(model, train_loader, val_loader, epochs=5000, lr=0.001):\n",
    "    # Treina o modelo e registra o erro de treinamento e validação.\n",
    "    criterion = nn.MSELoss()\n",
    "    optimizer = optim.Adam(model.parameters(), lr=lr)\n",
    "\n",
    "    train_losses = []\n",
    "    val_losses = []\n",
    "\n",
    "    for epoch in range(epochs):\n",
    "        # Fase de Treinamento\n",
    "        model.train()\n",
    "        running_loss = 0.0\n",
    "        for inputs, targets in train_loader:\n",
    "            optimizer.zero_grad()\n",
    "            outputs = model(inputs)\n",
    "            loss = criterion(outputs, targets)\n",
    "            loss.backward()\n",
    "            optimizer.step()\n",
    "            running_loss += loss.item() * inputs.size(0)\n",
    "        train_losses.append(running_loss / len(train_loader.dataset))\n",
    "\n",
    "        # Fase de Validação\n",
    "        model.eval()\n",
    "        running_loss = 0.0\n",
    "        with torch.no_grad():\n",
    "            for inputs, targets in val_loader:\n",
    "                outputs = model(inputs)\n",
    "                loss = criterion(outputs, targets)\n",
    "                running_loss += loss.item() * inputs.size(0)\n",
    "        val_losses.append(running_loss / len(val_loader.dataset))\n",
    "\n",
    "        if (epoch + 1) % 500 == 0:\n",
    "            print(f'Época [{epoch+1}/{epochs}], Perda de Treino: {train_losses[-1]:.8f}, Perda de Validação: {val_losses[-1]:.8f}')\n",
    "    \n",
    "    return train_losses, val_losses"
   ]
  },
  {
   "cell_type": "markdown",
   "id": "c4df2a05",
   "metadata": {},
   "source": [
    "# --- 4. Visualização dos Resultados ---"
   ]
  },
  {
   "cell_type": "code",
   "execution_count": null,
   "id": "8fa20719",
   "metadata": {},
   "outputs": [],
   "source": [
    "\n",
    "def plot_results(X_all, y_true, y_pred, train_losses, val_losses, title):\n",
    "    \"\"\"Plota os gráficos de função real vs. aproximada e curvas de erro.\"\"\"\n",
    "    \n",
    "    # Converte tensores para numpy para plotagem\n",
    "    X_all_np = X_all.numpy()\n",
    "    y_true_np = y_true.numpy()\n",
    "    y_pred_np = y_pred.numpy()\n",
    "    \n",
    "    # Gráfico 1: Função Real vs. Aproximada\n",
    "    plt.figure(figsize=(14, 6))\n",
    "    plt.subplot(1, 2, 1)\n",
    "    plt.plot(X_all_np, y_true_np, label='Função Real', color='blue')\n",
    "    plt.plot(X_all_np, y_pred_np, '--', label='Função Aproximada', color='red')\n",
    "    plt.title(f'Aproximação da Função: {title}')\n",
    "    plt.xlabel('x')\n",
    "    plt.ylabel('f(x)')\n",
    "    plt.legend()\n",
    "    plt.grid(True)\n",
    "\n",
    "    # Gráfico 2: Curvas de Erro\n",
    "    plt.subplot(1, 2, 2)\n",
    "    plt.plot(train_losses, label='Erro de Treinamento', color='green')\n",
    "    plt.plot(val_losses, label='Erro de Validação', color='orange')\n",
    "    plt.title('Curva de Erro durante o Treinamento')\n",
    "    plt.xlabel('Época')\n",
    "    plt.ylabel('Erro (MSE)')\n",
    "    plt.legend()\n",
    "    plt.grid(True)\n",
    "    plt.tight_layout()\n",
    "    plt.show()"
   ]
  },
  {
   "cell_type": "code",
   "execution_count": null,
   "id": "0bffd789",
   "metadata": {},
   "outputs": [],
   "source": [
    "# Configurações\n",
    "NUM_SAMPLES = 1000\n",
    "VAL_SPLIT = 0.2"
   ]
  },
  {
   "cell_type": "markdown",
   "id": "b1eb6f26",
   "metadata": {},
   "source": [
    "# --- Aproximação para f(x) = sin(2x) + cos(3x) ---"
   ]
  },
  {
   "cell_type": "code",
   "execution_count": null,
   "id": "2dba87c3",
   "metadata": {},
   "outputs": [],
   "source": [
    "print(\"--- Aproximando f(x) = sin(2x) + cos(3x) ---\")\n",
    "\n",
    "# Define a função e gera os dados\n",
    "func_a = lambda x: torch.sin(2 * x) + torch.cos(3 * x)\n",
    "X_a, y_a = generate_data(func_a, 0, 5, NUM_SAMPLES)\n",
    "\n",
    "# Divide os dados\n",
    "dataset_a = TensorDataset(X_a, y_a)\n",
    "train_size_a = int((1 - VAL_SPLIT) * len(dataset_a))\n",
    "val_size_a = len(dataset_a) - train_size_a\n",
    "train_dataset_a, val_dataset_a = random_split(dataset_a, [train_size_a, val_size_a])\n",
    "\n",
    "train_loader_a = DataLoader(train_dataset_a, batch_size=32, shuffle=True)\n",
    "val_loader_a = DataLoader(val_dataset_a, batch_size=32)\n",
    "\n",
    "# Treina\n",
    "model_a = MLP(hidden_layers=[100, 50])\n",
    "train_losses_a, val_losses_a = train_and_evaluate(model_a, train_loader_a, val_loader_a)\n",
    "\n",
    "# Previsão final e plotagem\n",
    "model_a.eval()\n",
    "with torch.no_grad():\n",
    "    y_pred_a = model_a(X_a)\n",
    "plot_results(X_a, y_a, y_pred_a, train_losses_a, val_losses_a, 'sin(2x) + cos(3x)')"
   ]
  },
  {
   "cell_type": "markdown",
   "id": "c5f735e8",
   "metadata": {},
   "source": [
    "# --- Aproximação para f(x) = 10x^5 + 5x^4 + 2x^3 - 0.5x^2 + 3x + 2 ---"
   ]
  },
  {
   "cell_type": "code",
   "execution_count": null,
   "id": "1435cdf4",
   "metadata": {},
   "outputs": [],
   "source": [
    "print(\"--- Aproximando f(x) = 10x^5 + 5x^4 + 2x^3 - 0.5x^2 + 3x + 2 ---\")\n",
    "\n",
    "# Define a função e gera os dados\n",
    "func_b = lambda x: 10*x**5 + 5*x**4 + 2*x**3 - 0.5*x**2 + 3*x + 2\n",
    "X_b, y_b = generate_data(func_b, 0, 5, NUM_SAMPLES)\n",
    "\n",
    "# Divide os dados\n",
    "dataset_b = TensorDataset(X_b, y_b)\n",
    "train_size_b = int((1 - VAL_SPLIT) * len(dataset_b))\n",
    "val_size_b = len(dataset_b) - train_size_b\n",
    "train_dataset_b, val_dataset_b = random_split(dataset_b, [train_size_b, val_size_b])\n",
    "\n",
    "train_loader_b = DataLoader(train_dataset_b, batch_size=32, shuffle=True)\n",
    "val_loader_b = DataLoader(val_dataset_b, batch_size=32)\n",
    "\n",
    "# Treina\n",
    "model_b = MLP(hidden_layers=[200, 100, 50]) # Arquitetura mais robusta para um polinômio de maior grau\n",
    "train_losses_b, val_losses_b = train_and_evaluate(model_b, train_loader_b, val_loader_b, epochs=10000, lr=0.0005)\n",
    "\n",
    "# Previsão final e plotagem\n",
    "model_b.eval()\n",
    "with torch.no_grad():\n",
    "    y_pred_b = model_b(X_b)\n",
    "plot_results(X_b, y_b, y_pred_b, train_losses_b, val_losses_b, 'Polinômio de Grau 5')"
   ]
  }
 ],
 "metadata": {
  "kernelspec": {
   "display_name": ".venv",
   "language": "python",
   "name": "python3"
  },
  "language_info": {
   "codemirror_mode": {
    "name": "ipython",
    "version": 3
   },
   "file_extension": ".py",
   "mimetype": "text/x-python",
   "name": "python",
   "nbconvert_exporter": "python",
   "pygments_lexer": "ipython3",
   "version": "3.13.1"
  }
 },
 "nbformat": 4,
 "nbformat_minor": 5
}
